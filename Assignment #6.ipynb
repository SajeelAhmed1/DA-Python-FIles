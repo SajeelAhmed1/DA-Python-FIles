{
 "cells": [
  {
   "cell_type": "code",
   "execution_count": 1,
   "id": "e33f7913-af38-436d-80d3-0c01c1341511",
   "metadata": {},
   "outputs": [
    {
     "name": "stdin",
     "output_type": "stream",
     "text": [
      "Please enter a number whose table you want to generate? 4\n"
     ]
    },
    {
     "name": "stdout",
     "output_type": "stream",
     "text": [
      "4 x 1 = 4\n",
      "4 x 2 = 8\n",
      "4 x 3 = 12\n",
      "4 x 4 = 16\n",
      "4 x 5 = 20\n",
      "4 x 6 = 24\n",
      "4 x 7 = 28\n",
      "4 x 8 = 32\n",
      "4 x 9 = 36\n",
      "4 x 10 = 40\n"
     ]
    }
   ],
   "source": [
    "a=int(input(\"Please enter a number whose table you want to generate?\"))\n",
    "for i in range(1,11):\n",
    "    print(a,\"x\",i, \"=\",a*i)"
   ]
  },
  {
   "cell_type": "code",
   "execution_count": 5,
   "id": "5b8fae86-c5b8-4562-b887-6430da0fc0d3",
   "metadata": {},
   "outputs": [
    {
     "name": "stdin",
     "output_type": "stream",
     "text": [
      "Please guess a number between 1-9: 3\n"
     ]
    },
    {
     "name": "stdout",
     "output_type": "stream",
     "text": [
      "2 Try Again!\n"
     ]
    },
    {
     "name": "stdin",
     "output_type": "stream",
     "text": [
      "Please guess a number between 1-9: 5\n"
     ]
    },
    {
     "name": "stdout",
     "output_type": "stream",
     "text": [
      "2 Try Again!\n"
     ]
    },
    {
     "name": "stdin",
     "output_type": "stream",
     "text": [
      "Please guess a number between 1-9: 6\n"
     ]
    },
    {
     "name": "stdout",
     "output_type": "stream",
     "text": [
      "2 Try Again!\n"
     ]
    },
    {
     "name": "stdin",
     "output_type": "stream",
     "text": [
      "Please guess a number between 1-9: 2\n"
     ]
    },
    {
     "name": "stdout",
     "output_type": "stream",
     "text": [
      "2 Well Guessed!\n"
     ]
    }
   ],
   "source": [
    "import random\n",
    "# a=int(input(\"Please guess a number between 1-9:\"))\n",
    "guess=False\n",
    "x=random.randrange(1,5)\n",
    "\n",
    "while guess==False:\n",
    "    a=int(input(\"Please guess a number between 1-9:\"))\n",
    "    if a==x:\n",
    "        print(\"Well Guessed!\")\n",
    "        break\n",
    "    print(\"Try Again!\")"
   ]
  },
  {
   "cell_type": "code",
   "execution_count": 47,
   "id": "fe5aa585-2e45-400a-8e21-f76231b1438b",
   "metadata": {},
   "outputs": [
    {
     "name": "stdin",
     "output_type": "stream",
     "text": [
      "Enter Height 6.0\n",
      "Enter Weight 68\n"
     ]
    },
    {
     "name": "stdout",
     "output_type": "stream",
     "text": [
      "Cierra Vega (6.2, 70)\n"
     ]
    }
   ],
   "source": [
    "a={'Cierra Vega': (6.2, 70), 'Alden Cantrell': (5.9, 65), 'Kierra Gentry': (6.0, 68), 'Pierre Cox': (5.8, 66)}\n",
    "h=float(input(\"Enter Height\"))\n",
    "w=float(input(\"Enter Weight\"))\n",
    "for i in a:\n",
    "    # print(a[i])\n",
    "    (height,weight)= a[i]\n",
    "    # print(c1)\n",
    "    if height <= h and weight >=w:\n",
    "        print(i,a[i])\n",
    "        break\n",
    "    else:\n",
    "        print(\"none found\")"
   ]
  },
  {
   "cell_type": "code",
   "execution_count": 61,
   "id": "13afcbea-701d-4440-8155-743c3f39546d",
   "metadata": {},
   "outputs": [
    {
     "name": "stdout",
     "output_type": "stream",
     "text": [
      "{'C1': [], 'C2': [], 'C3': []}\n"
     ]
    }
   ],
   "source": [
    "x={'C1': [10, 20, 30], 'C2': [20, 30, 40], 'C3': [12, 34]}\n",
    "for i in x:\n",
    "    x[i].clear()\n",
    "    \n",
    "print(x)"
   ]
  },
  {
   "cell_type": "code",
   "execution_count": 77,
   "id": "99dabb0f-f19c-48d2-b6de-a7b4fc7c4fe1",
   "metadata": {},
   "outputs": [
    {
     "name": "stdout",
     "output_type": "stream",
     "text": [
      "River Name: Thames\n",
      "Country Name: London\n",
      "The Thames runs through London\n",
      "______________________________________________________\n",
      "River Name: Nile\n",
      "Country Name: Egypt\n",
      "The Nile runs through Egypt\n",
      "______________________________________________________\n",
      "River Name: Sein\n",
      "Country Name: Paris\n",
      "The Sein runs through Paris\n",
      "______________________________________________________\n"
     ]
    }
   ],
   "source": [
    "x={'Thames': \"London\", 'Nile': \"Egypt\", 'Sein': \"Paris\"}\n",
    "for i in x:\n",
    "    print(\"River Name:\",i)\n",
    "    print(\"Country Name:\",x[i])\n",
    "    print(\"The\",i,\"runs through\",x[i])\n",
    "    print(\"______________________________________________________\")"
   ]
  },
  {
   "cell_type": "code",
   "execution_count": 115,
   "id": "bf5e4164-6b8a-42f8-8f93-724527b1a2b7",
   "metadata": {},
   "outputs": [
    {
     "name": "stdin",
     "output_type": "stream",
     "text": [
      "Please enter you age? : 12\n"
     ]
    },
    {
     "name": "stdout",
     "output_type": "stream",
     "text": [
      "Since you are between the age of 3 - 12, your ticket is priced at $10!\n"
     ]
    }
   ],
   "source": [
    "while guess==False:\n",
    "    a=int(input(\"Please enter you age? :\"))\n",
    "    if a<=3:\n",
    "        print(\"Since you are under the age of 3, your ticket is free!\")\n",
    "        break\n",
    "    elif a<=12:\n",
    "        print(\"Since you are between the age of 3 - 12, your ticket is priced at $10!\")\n",
    "        break\n",
    "    elif a>12:\n",
    "        print(\"Since you are above the age of 12, your ticket is priced at $15!\")\n",
    "        break"
   ]
  },
  {
   "cell_type": "code",
   "execution_count": 125,
   "id": "7ef6f8eb-4da5-4fc7-b5cf-e717d5fc3dfb",
   "metadata": {},
   "outputs": [
    {
     "name": "stdin",
     "output_type": "stream",
     "text": [
      "Enter an alphabet: e\n"
     ]
    },
    {
     "name": "stdout",
     "output_type": "stream",
     "text": [
      "It's a vowvel!\n"
     ]
    }
   ],
   "source": [
    "a=input(\"Enter an alphabet:\")\n",
    "if a in 'aeiou':\n",
    "    print(\"It's a vowvel!\")\n",
    "elif  a.isalpha():\n",
    "    print(\"it's a consonant\")\n",
    "    "
   ]
  }
 ],
 "metadata": {
  "kernelspec": {
   "display_name": "Python 3 (ipykernel)",
   "language": "python",
   "name": "python3"
  },
  "language_info": {
   "codemirror_mode": {
    "name": "ipython",
    "version": 3
   },
   "file_extension": ".py",
   "mimetype": "text/x-python",
   "name": "python",
   "nbconvert_exporter": "python",
   "pygments_lexer": "ipython3",
   "version": "3.12.4"
  }
 },
 "nbformat": 4,
 "nbformat_minor": 5
}
