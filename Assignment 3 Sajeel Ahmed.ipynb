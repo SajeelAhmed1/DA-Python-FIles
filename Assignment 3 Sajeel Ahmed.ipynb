{
 "cells": [
  {
   "cell_type": "code",
   "execution_count": 1,
   "id": "2b3559fb-43e2-4e96-8b31-48f1b6a650c5",
   "metadata": {},
   "outputs": [
    {
     "name": "stdout",
     "output_type": "stream",
     "text": [
      "Hello World\n"
     ]
    }
   ],
   "source": [
    "print('Hello World')"
   ]
  },
  {
   "cell_type": "code",
   "execution_count": 51,
   "id": "205f89eb-c4df-43d4-84ac-720204ff6f60",
   "metadata": {},
   "outputs": [
    {
     "name": "stdout",
     "output_type": "stream",
     "text": [
      "Twinkle, twinkle, little star,\n",
      " \tHow I wonder what you are!\n",
      "\t\tUp above the world so high,\n",
      "\t\tLike a diamond in the sky.\n",
      "\n",
      "Twinkle, twinkle, little star,\n",
      "\tHow I wonder what you are\n"
     ]
    }
   ],
   "source": [
    "print(\"Twinkle, twinkle, little star,\\n \\tHow I wonder what you are!\\n\\t\\tUp above the world so high,\\n\\t\\tLike a diamond in the sky.\\n\\nTwinkle, twinkle, little star,\\n\\tHow I wonder what you are\")"
   ]
  },
  {
   "cell_type": "code",
   "execution_count": 59,
   "id": "d9a970c8-24da-4e6b-aa7e-99f32c993490",
   "metadata": {},
   "outputs": [
    {
     "name": "stdout",
     "output_type": "stream",
     "text": [
      "3.12.4 | packaged by Anaconda, Inc. | (main, Jun 18 2024, 15:03:56) [MSC v.1929 64 bit (AMD64)]\n"
     ]
    }
   ],
   "source": [
    "import sys\n",
    "print(sys.version)"
   ]
  },
  {
   "cell_type": "code",
   "execution_count": 63,
   "id": "48dfd67d-3ce2-4b3d-b017-1463949613a2",
   "metadata": {},
   "outputs": [
    {
     "name": "stdout",
     "output_type": "stream",
     "text": [
      "Current Date and Time is: 2024-08-02 22:11:24.711739\n"
     ]
    }
   ],
   "source": [
    "from datetime import datetime\n",
    "c = datetime.now()\n",
    "print('Current Date and Time is:', c)"
   ]
  },
  {
   "cell_type": "code",
   "execution_count": 79,
   "id": "eae53264-93a6-4b41-934b-977d542f423b",
   "metadata": {},
   "outputs": [
    {
     "name": "stdin",
     "output_type": "stream",
     "text": [
      "Please Enter the Radius of a Circle? 2\n"
     ]
    },
    {
     "name": "stdout",
     "output_type": "stream",
     "text": [
      "\tThe Area of the circle based on the given radius is: 12.56\n"
     ]
    }
   ],
   "source": [
    "radius_of_circle= int(input(\"Please Enter the Radius of a Circle?\"))\n",
    "area_of_circle= 3.14 * (radius_of_circle**2)\n",
    "print(\"\\tThe Area of the circle based on the given radius is:\",area_of_circle)"
   ]
  },
  {
   "cell_type": "code",
   "execution_count": 87,
   "id": "250ccd94-2d30-4c61-aa99-65a43dcf6025",
   "metadata": {},
   "outputs": [
    {
     "name": "stdin",
     "output_type": "stream",
     "text": [
      "Please enter your first name? sajeel\n",
      "Please enter your last name? ahmed\n"
     ]
    },
    {
     "name": "stdout",
     "output_type": "stream",
     "text": [
      "ahmed   sajeel\n"
     ]
    }
   ],
   "source": [
    "f_name= str(input(\"Please enter your first name?\"))\n",
    "l_name= str(input(\"Please enter your last name?\"))\n",
    "print(l_name,' ',f_name)"
   ]
  },
  {
   "cell_type": "code",
   "execution_count": 95,
   "id": "9dc334be-1a5c-41f9-8198-0b73984b30f3",
   "metadata": {},
   "outputs": [
    {
     "name": "stdin",
     "output_type": "stream",
     "text": [
      "Please enter 1st number? 3\n",
      "Please enter 2nd number? 4\n"
     ]
    },
    {
     "name": "stdout",
     "output_type": "stream",
     "text": [
      "addition of two inputs 7\n"
     ]
    }
   ],
   "source": [
    "a=int(input(\"Please enter 1st number?\"))\n",
    "b=int(input(\"Please enter 2nd number?\"))\n",
    "c=a+b\n",
    "print(\"addition of two inputs\",c)"
   ]
  },
  {
   "cell_type": "code",
   "execution_count": 103,
   "id": "f0f1f0d8-3238-4a93-98de-6cc8478fd5a8",
   "metadata": {},
   "outputs": [
    {
     "name": "stdin",
     "output_type": "stream",
     "text": [
      "Please enter 1st subject marks? 100\n",
      "Please enter 2nd subject marks? 200\n",
      "Please enter 3rd subject marks? 50\n",
      "Please enter 4th subject marks? 40\n",
      "Please enter 25th subject marks? 10\n"
     ]
    },
    {
     "name": "stdout",
     "output_type": "stream",
     "text": [
      "Your grade is: A\n",
      "\n",
      "Marks in each subject:\n",
      "\tMaths: 100 \n",
      "\tChemistry: 200 \n",
      "\tPhysics: 50 \n",
      "\tEnglish: 40 \n",
      "\tWorld History: 10\n",
      "Total Marks: 400 /500\n"
     ]
    }
   ],
   "source": [
    "a=int(input(\"Please enter 1st subject marks?\"))\n",
    "b=int(input(\"Please enter 2nd subject marks?\"))\n",
    "c=int(input(\"Please enter 3rd subject marks?\"))\n",
    "d=int(input(\"Please enter 4th subject marks?\"))\n",
    "e=int(input(\"Please enter 25th subject marks?\"))\n",
    "total= a + b + c + d + e\n",
    "\n",
    "\n",
    "print(\"\\nMarks in each subject:\\n\\tMaths:\",a,\"\\n\\tChemistry:\",b,\"\\n\\tPhysics:\",c,\"\\n\\tEnglish:\",d,\"\\n\\tWorld History:\",e)\n",
    "print(\"Total Marks:\",total,\"/500\")\n",
    "if total<250:\n",
    "    print(\"\\nYour grade is: B\")\n",
    "else:\n",
    "    print(\"\\nYour grade is: A\")"
   ]
  },
  {
   "cell_type": "code",
   "execution_count": 115,
   "id": "c85ba5a5-d7bf-4940-9ddf-3a051028d4f8",
   "metadata": {},
   "outputs": [
    {
     "name": "stdin",
     "output_type": "stream",
     "text": [
      "Please enter 1st subject marks? 27\n"
     ]
    },
    {
     "name": "stdout",
     "output_type": "stream",
     "text": [
      "The Number you have entered is : \n",
      "\tOdd\n"
     ]
    }
   ],
   "source": [
    "a=int(input(\"Please enter 1st subject marks?\"))\n",
    "if a%2==0:\n",
    "    print(\"The Number you have entered is : \\n\\tEven\")\n",
    "else:\n",
    "    print(\"The Number you have entered is : \\n\\tOdd\")"
   ]
  },
  {
   "cell_type": "code",
   "execution_count": 119,
   "id": "16c2afae-ed1e-4994-91b5-ba0d98f1d52a",
   "metadata": {},
   "outputs": [
    {
     "name": "stdout",
     "output_type": "stream",
     "text": [
      "The lentgh of the given list is: 5\n"
     ]
    }
   ],
   "source": [
    "a=[1,2,3,4,5]\n",
    "b=len(a)\n",
    "print(\"The lentgh of the given list is:\",b)"
   ]
  },
  {
   "cell_type": "code",
   "execution_count": 147,
   "id": "a52af90a-4f2a-41b3-8c36-0bd39a991ad9",
   "metadata": {},
   "outputs": [
    {
     "name": "stdout",
     "output_type": "stream",
     "text": [
      "1\n",
      "2\n",
      "3\n",
      "4\n",
      "5\n",
      "Sum of all values present in given list =  0\n"
     ]
    }
   ],
   "source": [
    "a=[1,2,3,4,5]\n",
    "x=0\n",
    "for i in a:\n",
    "    print(a[i-1])\n",
    "    # x+=a[i-1]\n",
    "print(\"Sum of all values present in given list = \",x)"
   ]
  },
  {
   "cell_type": "code",
   "execution_count": 181,
   "id": "ade5f2a3-0abf-4ac8-a00e-c2a52812ee5e",
   "metadata": {},
   "outputs": [
    {
     "name": "stdout",
     "output_type": "stream",
     "text": [
      "Largest value is: 742\n"
     ]
    }
   ],
   "source": [
    "a=[9,23,75,0,92,742,37,84]\n",
    "x=0\n",
    "for i in a:\n",
    "    if i > x:\n",
    "        x=i\n",
    "        # print(x)\n",
    "print (\"Largest value is:\",x)\n",
    "        \n",
    "\n",
    "# print(\"Sum of all values present in given list = \",x)"
   ]
  },
  {
   "cell_type": "code",
   "execution_count": 183,
   "id": "3745299d-0a7a-483a-8786-f6f06255ab0d",
   "metadata": {},
   "outputs": [
    {
     "name": "stdout",
     "output_type": "stream",
     "text": [
      "1\n",
      "1\n",
      "2\n",
      "3\n"
     ]
    }
   ],
   "source": [
    "a=[1, 1, 2, 3, 5, 8, 13, 21, 34, 55, 89]\n",
    "x=0\n",
    "for i in a:\n",
    "    if i < 5:\n",
    "        x=i\n",
    "        print(x)"
   ]
  },
  {
   "cell_type": "code",
   "execution_count": null,
   "id": "4a240469-a6c1-42a2-8497-382e737f7aa0",
   "metadata": {},
   "outputs": [],
   "source": []
  }
 ],
 "metadata": {
  "kernelspec": {
   "display_name": "Python 3 (ipykernel)",
   "language": "python",
   "name": "python3"
  },
  "language_info": {
   "codemirror_mode": {
    "name": "ipython",
    "version": 3
   },
   "file_extension": ".py",
   "mimetype": "text/x-python",
   "name": "python",
   "nbconvert_exporter": "python",
   "pygments_lexer": "ipython3",
   "version": "3.12.4"
  }
 },
 "nbformat": 4,
 "nbformat_minor": 5
}
