{
 "cells": [
  {
   "cell_type": "code",
   "execution_count": 24,
   "id": "9e6be494-63e6-4168-be33-6b82c90f889e",
   "metadata": {},
   "outputs": [],
   "source": [
    "glist=[\"Alex\",\"John\",\"Yusuf\",\"Bilal\"]"
   ]
  },
  {
   "cell_type": "code",
   "execution_count": 28,
   "id": "7bbc506e-e2b4-4d37-a8d9-81b76a473532",
   "metadata": {},
   "outputs": [
    {
     "name": "stdout",
     "output_type": "stream",
     "text": [
      "Hello Alex I would like to invite you to a grand party, I would be much obliged if you could make it! Please RSVP soons!\n",
      "Hello John I would like to invite you to a grand party, I would be much obliged if you could make it! Please RSVP soons!\n",
      "Hello Yusuf I would like to invite you to a grand party, I would be much obliged if you could make it! Please RSVP soons!\n"
     ]
    }
   ],
   "source": [
    "for i in glist:\n",
    "    print(\"Hello\",i,\"I would like to invite you to a grand party, I would be much obliged if you could make it! Please RSVP soons!\")"
   ]
  },
  {
   "cell_type": "code",
   "execution_count": 205,
   "id": "b2121b7b-8600-4fee-9c64-8866f6afd24c",
   "metadata": {},
   "outputs": [
    {
     "name": "stdout",
     "output_type": "stream",
     "text": [
      "==== Ex # 4-1 ====\n",
      "Hello Alex I would like to invite you to a grand party, I would be much obliged if you could make it! Please RSVP soon!\n",
      "Hello John I would like to invite you to a grand party, I would be much obliged if you could make it! Please RSVP soon!\n",
      "Hello Yusuf I would like to invite you to a grand party, I would be much obliged if you could make it! Please RSVP soon!\n",
      "Hello Bilal I would like to invite you to a grand party, I would be much obliged if you could make it! Please RSVP soon!\n",
      "==== Ex # 4-2 ====\n",
      "________________________________________________________________________________________________________________________________\n",
      "Unfortunately John will be unable to make it\n",
      "-----------------------------------------------------------------------------------------------------------------------------\n",
      "Here are the new invites\n",
      "-----------------------------------------------------------------------------------------------------------------------------\n",
      "Hello Alex I would like to invite you to a grand party, I would be much obliged if you could make it! Please RSVP soon!\n",
      "Hello Harry I would like to invite you to a grand party, I would be much obliged if you could make it! Please RSVP soon!\n",
      "Hello Yusuf I would like to invite you to a grand party, I would be much obliged if you could make it! Please RSVP soon!\n",
      "Hello Bilal I would like to invite you to a grand party, I would be much obliged if you could make it! Please RSVP soon!\n",
      "-----------------------------------------------------------------------------------------------------------------------------\n",
      "==== Ex # 4-3 ====\n",
      "Alert! Since we have found a bigger dinner table, we have added more guests please find the revised invites below\n",
      "-----------------------------------------------------------------------------------------------------------------------------\n",
      "________________________________________________________________________________________________________________________________\n",
      "Hello Hammad I would like to invite you to a grand party, I would be much obliged if you could make it! Please RSVP soons!\n",
      "Hello Alex I would like to invite you to a grand party, I would be much obliged if you could make it! Please RSVP soons!\n",
      "Hello Harry I would like to invite you to a grand party, I would be much obliged if you could make it! Please RSVP soons!\n",
      "Hello Justin I would like to invite you to a grand party, I would be much obliged if you could make it! Please RSVP soons!\n",
      "Hello Yusuf I would like to invite you to a grand party, I would be much obliged if you could make it! Please RSVP soons!\n",
      "Hello Bilal I would like to invite you to a grand party, I would be much obliged if you could make it! Please RSVP soons!\n",
      "Hello James I would like to invite you to a grand party, I would be much obliged if you could make it! Please RSVP soons!\n",
      "==== Ex # 4-4 ====\n",
      "-----------------------------------------------------------------------------------------------------------------------------\n",
      "Alert! Due to unforseen circumstances, we can only entertain two guests at a time, please find the revised invites below:\n",
      "-----------------------------------------------------------------------------------------------------------------------------\n",
      "Apologies! Mr. James , due to shortage of seats you are not invited at the moment,we sincerely apologize for the inconvenience!\n",
      "Apologies! Mr. Bilal , due to shortage of seats you are not invited at the moment,we sincerely apologize for the inconvenience!\n",
      "Apologies! Mr. Yusuf , due to shortage of seats you are not invited at the moment,we sincerely apologize for the inconvenience!\n",
      "Apologies! Mr. Justin , due to shortage of seats you are not invited at the moment,we sincerely apologize for the inconvenience!\n",
      "Apologies! Mr. Harry , due to shortage of seats you are not invited at the moment,we sincerely apologize for the inconvenience!\n",
      "________________________________________________________________________________________________________________________________\n",
      "Congratulations! Mr. Alex , you are shortlisted for a seat at the dinner!\n",
      "________________________________________________________________________________________________________________________________\n",
      "Congratulations! Mr. Hammad , you are shortlisted for a seat at the dinner!\n",
      "-----------------------------------------------------------------------------------------------------------------------------\n",
      "Final List of guests invited ['Hammad', 'Alex']\n",
      "Final Empty list []\n"
     ]
    }
   ],
   "source": [
    "# 4-1.\n",
    "print(\"==== Ex # 4-1 ====\")\n",
    "glist=[\"Alex\",\"John\",\"Yusuf\",\"Bilal\"]\n",
    "for i in glist:\n",
    "    print(\"Hello\",i,\"I would like to invite you to a grand party, I would be much obliged if you could make it! Please RSVP soon!\")\n",
    "# 4-2.\n",
    "print(\"==== Ex # 4-2 ====\")\n",
    "print(\"________________________________________________________________________________________________________________________________\")\n",
    "print(\"Unfortunately\",glist[1],\"will be unable to make it\")\n",
    "glist[1]=\"Harry\"\n",
    "print(\"-----------------------------------------------------------------------------------------------------------------------------\")\n",
    "print(\"Here are the new invites\")\n",
    "print(\"-----------------------------------------------------------------------------------------------------------------------------\")\n",
    "for i in glist:\n",
    "    print(\"Hello\",i,\"I would like to invite you to a grand party, I would be much obliged if you could make it! Please RSVP soon!\")\n",
    "print(\"-----------------------------------------------------------------------------------------------------------------------------\")\n",
    "# 4-3.\n",
    "print(\"==== Ex # 4-3 ====\")\n",
    "print(\"Alert! Since we have found a bigger dinner table, we have added more guests please find the revised invites below\")\n",
    "print(\"-----------------------------------------------------------------------------------------------------------------------------\")\n",
    "glist.insert(0,\"Hammad\")\n",
    "glist.insert(3,\"Justin\")\n",
    "glist.append(\"James\")\n",
    "print(\"________________________________________________________________________________________________________________________________\")\n",
    "for i in glist:\n",
    "    print(\"Hello\",i,\"I would like to invite you to a grand party, I would be much obliged if you could make it! Please RSVP soons!\")\n",
    "\n",
    "# 4-4.\n",
    "print(\"==== Ex # 4-4 ====\")\n",
    "print(\"-----------------------------------------------------------------------------------------------------------------------------\")\n",
    "print(\"Alert! Due to unforseen circumstances, we can only entertain two guests at a time, please find the revised invites below:\")\n",
    "print(\"-----------------------------------------------------------------------------------------------------------------------------\")\n",
    "a=len(glist)\n",
    "for i in range(a):\n",
    "    if a > 2:\n",
    "        print(\"Apologies! Mr.\",glist[a-1],\", due to shortage of seats you are not invited at the moment,we sincerely apologize for the inconvenience!\")\n",
    "        a=a-1\n",
    "        glist.pop()\n",
    "    else:\n",
    "        print(\"________________________________________________________________________________________________________________________________\")\n",
    "        # print(\"You will be invited\", glist)\n",
    "        print(\"Congratulations! Mr.\",glist[a-1],\", you are shortlisted for a seat at the dinner!\")\n",
    "        a=a-1\n",
    "print(\"-----------------------------------------------------------------------------------------------------------------------------\")\n",
    "print(\"Final List of guests invited\",glist)\n",
    "del glist[0]\n",
    "del glist[0]\n",
    "print(\"Final Empty list\",glist)"
   ]
  },
  {
   "cell_type": "code",
   "execution_count": 203,
   "id": "9367481d-2310-45fa-8773-87af720060d1",
   "metadata": {},
   "outputs": [
    {
     "name": "stdout",
     "output_type": "stream",
     "text": [
      "==== Ex # 4-5 ====\n",
      "f\n",
      "['a', 'b', 'c']\n",
      "['a', 'e', 'i', 'm']\n",
      "['c', 'e', 'g']\n",
      "['i', 'j', 'k', 'l', 'm', 'n', 'o']\n",
      "['a', 'b', 'c', 'd', 'e']\n",
      "['a', 'f', 'k']\n",
      "['a', 'c', 'e', 'g', 'i', 'k', 'm', 'o']\n",
      "['i', 'j', 'k', 'l', 'm', 'n', 'o']\n"
     ]
    }
   ],
   "source": [
    "#4-5.\n",
    "print(\"==== Ex # 4-5 ====\")\n",
    "x=[\"a\",\"b\",\"c\",\"d\",\"e\",\"f\",\"g\",\"h\",\"i\",\"j\",\"k\",\"l\",\"m\",\"n\",\"o\"]\n",
    "print(x[5])\n",
    "print(x[0:3])\n",
    "print(x[0:16:4])\n",
    "print(x[2:8:2])\n",
    "print(x[8:])\n",
    "print(x[:5])\n",
    "print(x[::5])\n",
    "print(x[::2])\n",
    "print(x[8::])"
   ]
  },
  {
   "cell_type": "code",
   "execution_count": null,
   "id": "457a60ea-7943-473a-b1ac-ecf8667fc5e8",
   "metadata": {},
   "outputs": [],
   "source": []
  },
  {
   "cell_type": "code",
   "execution_count": null,
   "id": "5faf4191-130e-4804-9a40-609fbfacb2a9",
   "metadata": {},
   "outputs": [],
   "source": []
  }
 ],
 "metadata": {
  "kernelspec": {
   "display_name": "Python 3 (ipykernel)",
   "language": "python",
   "name": "python3"
  },
  "language_info": {
   "codemirror_mode": {
    "name": "ipython",
    "version": 3
   },
   "file_extension": ".py",
   "mimetype": "text/x-python",
   "name": "python",
   "nbconvert_exporter": "python",
   "pygments_lexer": "ipython3",
   "version": "3.12.4"
  }
 },
 "nbformat": 4,
 "nbformat_minor": 5
}
