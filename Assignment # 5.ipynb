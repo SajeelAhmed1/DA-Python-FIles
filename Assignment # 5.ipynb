{
 "cells": [
  {
   "cell_type": "code",
   "execution_count": null,
   "id": "98e17ecf-6ec2-4365-840d-4ed6dd65ee83",
   "metadata": {},
   "outputs": [],
   "source": [
    "employees=(('14','frank','accounts'),('15','doris','billing'),('16','brad','inventory'))\n",
    "print(employees)\n"
   ]
  },
  {
   "cell_type": "code",
   "execution_count": null,
   "id": "bb750866-397c-40bc-9dd4-4ea81bf2e1eb",
   "metadata": {},
   "outputs": [],
   "source": [
    "\n",
    "inventory=({'itemID':\"112\", 'desc':'apple','quantity':'10'},{'itemID':\"113\", 'desc':'bananas','quantity':'18'},{'itemID':\"114\", 'desc':'oranges','quantity':'13'})\n",
    "\n",
    "print(inventory) "
   ]
  },
  {
   "cell_type": "code",
   "execution_count": null,
   "id": "da62178f-0417-4023-868c-a8519eb08974",
   "metadata": {},
   "outputs": [],
   "source": [
    "\n",
    "dep={'accounts':[{'empID':\"14\", 'name':'frank','age':'32'},{'empID':\"15\", 'name':'doris','age':'19'},{'empID':\"16\", 'name':'alan','age':'40'}],'billing':[{'empID':\"14\", 'name':'frank','age':'32'},{'empID':\"15\", 'name':'doris','age':'19'},{'empID':\"16\", 'name':'alan','age':'40'}],'pos':[{'empID':\"14\", 'name':'frank','age':'32'},{'empID':\"15\", 'name':'doris','age':'19'},{'empID':\"16\", 'name':'alan','age':'40'}] }\n",
    "print(dep)"
   ]
  },
  {
   "cell_type": "code",
   "execution_count": null,
   "id": "9e8301bd-c420-4064-95e6-bf8d3acf4f3b",
   "metadata": {},
   "outputs": [],
   "source": [
    "student_score=[{'Maths':\"43\", 'Science':'76','History':'53'},{'Maths':\"43\", 'Science':'76','History':'53'}]\n",
    "print(student_score)"
   ]
  },
  {
   "cell_type": "code",
   "execution_count": null,
   "id": "303dc656-84eb-4993-b16f-b02046564c6b",
   "metadata": {},
   "outputs": [],
   "source": [
    "projects_log={'Project1':['Task1','Task2','Task3'],'Project2':['Task1','Task2','Task3'],'Project3':['Task1','Task2','Task3']}\n",
    "print(\"Full Projects Log = \",projects_log)\n",
    "print(\"Tasks included in Project 1 = \",projects_log['Project1'])"
   ]
  },
  {
   "cell_type": "code",
   "execution_count": null,
   "id": "6438917e-3bfc-43dc-a4b5-d5f19d8a072e",
   "metadata": {},
   "outputs": [],
   "source": [
    "training_program = {'course1':{'content1':'Module1','content2':'Module2','content3':'Module3'},'course2':{'content1':'Module1','content2':'Module2','content3':'Module3'},'course3':{'content1':'Module1','content2':'Module2','content3':'Module3'}}\n",
    "# print(training_program)\n",
    "print(\"Course # 2 Outline:\",training_program['course2'])\n",
    "print(\"Details of Module in Course#2, Content # 1:\",training_program['course2']['content1'])"
   ]
  },
  {
   "cell_type": "code",
   "execution_count": null,
   "id": "384c5135-09b7-45ee-9ffb-aaa1b0a7f0ff",
   "metadata": {},
   "outputs": [],
   "source": [
    "products_list=[('hammer','$7'),('screwdriver','$10'),('pliers','$12')]\n",
    "(p1,p2,p3) = products_list\n",
    "print(p2)"
   ]
  },
  {
   "cell_type": "code",
   "execution_count": null,
   "id": "f70650ad-e23a-4644-97ca-9d49841729a9",
   "metadata": {},
   "outputs": [],
   "source": []
  }
 ],
 "metadata": {
  "kernelspec": {
   "display_name": "Python 3 (ipykernel)",
   "language": "python",
   "name": "python3"
  },
  "language_info": {
   "codemirror_mode": {
    "name": "ipython",
    "version": 3
   },
   "file_extension": ".py",
   "mimetype": "text/x-python",
   "name": "python",
   "nbconvert_exporter": "python",
   "pygments_lexer": "ipython3",
   "version": "3.12.4"
  }
 },
 "nbformat": 4,
 "nbformat_minor": 5
}
